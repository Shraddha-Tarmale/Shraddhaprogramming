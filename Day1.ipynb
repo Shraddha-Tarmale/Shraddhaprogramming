{
 "cells": [
  {
   "cell_type": "code",
   "execution_count": 2,
   "id": "6431b6ba-2f91-4173-bcb6-0bd025fbe51e",
   "metadata": {},
   "outputs": [
    {
     "ename": "SyntaxError",
     "evalue": "invalid syntax (888783933.py, line 1)",
     "output_type": "error",
     "traceback": [
      "\u001b[1;36m  Cell \u001b[1;32mIn[2], line 1\u001b[1;36m\u001b[0m\n\u001b[1;33m    *datatypes in python\u001b[0m\n\u001b[1;37m               ^\u001b[0m\n\u001b[1;31mSyntaxError\u001b[0m\u001b[1;31m:\u001b[0m invalid syntax\n"
     ]
    }
   ],
   "source": [
    "*datatypes in python\n",
    "#set\n",
    "print({1,4,6,7,\"shraddha\"})\n"
   ]
  },
  {
   "cell_type": "code",
   "execution_count": 1,
   "id": "917c63a9-1272-4ee9-97a5-629486cdcd1e",
   "metadata": {},
   "outputs": [
    {
     "name": "stdout",
     "output_type": "stream",
     "text": [
      "[2, 'shrau', 45, 89, 9]\n"
     ]
    }
   ],
   "source": [
    "#list\n",
    "list1=[2,\"shrau\",45,89,9]\n",
    "print(list1)"
   ]
  },
  {
   "cell_type": "code",
   "execution_count": 4,
   "id": "57933e10-6d51-4c5d-aeb7-32bf96eab9bc",
   "metadata": {},
   "outputs": [
    {
     "name": "stdout",
     "output_type": "stream",
     "text": [
      "(3, 6, 8, 'om')\n"
     ]
    }
   ],
   "source": [
    "#tuple\n",
    "tuple1=(3,6,8,\"om\")\n",
    "print(tuple1)\n"
   ]
  },
  {
   "cell_type": "code",
   "execution_count": 5,
   "id": "d9027620-0cd8-4706-bfaf-dbe1f96cd632",
   "metadata": {},
   "outputs": [
    {
     "name": "stdout",
     "output_type": "stream",
     "text": [
      "{1: 'shraddha'}\n"
     ]
    }
   ],
   "source": [
    "#dictionary\n",
    "dict1={1:\"shraddha\"}\n",
    "dict2={2:\"satyam\"}\n",
    "print(dict1)"
   ]
  },
  {
   "cell_type": "code",
   "execution_count": null,
   "id": "ef0269e2-b694-487f-93cb-18874c6f2f80",
   "metadata": {},
   "outputs": [],
   "source": [
    "#complex\n",
    "e.g=3+6j"
   ]
  },
  {
   "cell_type": "code",
   "execution_count": 6,
   "id": "00c49ee5-cd85-4e3c-8e47-6078a9ac1029",
   "metadata": {},
   "outputs": [],
   "source": [
    "\n",
    "#variables\n",
    "a=3\n",
    "b=3"
   ]
  },
  {
   "cell_type": "code",
   "execution_count": 7,
   "id": "59917173-faee-4992-8a03-88a986fc8fe5",
   "metadata": {},
   "outputs": [
    {
     "data": {
      "text/plain": [
       "140711804978024"
      ]
     },
     "execution_count": 7,
     "metadata": {},
     "output_type": "execute_result"
    }
   ],
   "source": [
    "id(a)\n",
    "id(b)"
   ]
  },
  {
   "cell_type": "code",
   "execution_count": 8,
   "id": "fa5a774f-e849-4141-a3f0-5f7c1a89822c",
   "metadata": {},
   "outputs": [
    {
     "ename": "TypeError",
     "evalue": "cannot unpack non-iterable int object",
     "output_type": "error",
     "traceback": [
      "\u001b[1;31m---------------------------------------------------------------------------\u001b[0m",
      "\u001b[1;31mTypeError\u001b[0m                                 Traceback (most recent call last)",
      "Cell \u001b[1;32mIn[8], line 1\u001b[0m\n\u001b[1;32m----> 1\u001b[0m a,b,c\u001b[38;5;241m=\u001b[39m\u001b[38;5;241m4\u001b[39m\n",
      "\u001b[1;31mTypeError\u001b[0m: cannot unpack non-iterable int object"
     ]
    }
   ],
   "source": [
    "a,b,c=4\n"
   ]
  },
  {
   "cell_type": "code",
   "execution_count": 9,
   "id": "7db931c9-dbcb-4ec6-826e-5aca48de5ff8",
   "metadata": {},
   "outputs": [],
   "source": [
    "a=b=c=4"
   ]
  },
  {
   "cell_type": "code",
   "execution_count": 10,
   "id": "777ad10c-c2fb-4b45-b253-30dc3712aa20",
   "metadata": {},
   "outputs": [],
   "source": [
    "student1=\"ram\"\n",
    "student2=\"lakhan\""
   ]
  },
  {
   "cell_type": "code",
   "execution_count": 11,
   "id": "81f65dad-d41a-4185-9a01-11df2d2a4c60",
   "metadata": {},
   "outputs": [
    {
     "name": "stdout",
     "output_type": "stream",
     "text": [
      "ram\n",
      "lakhan\n"
     ]
    }
   ],
   "source": [
    "print(student1)\n",
    "print(student2)"
   ]
  },
  {
   "cell_type": "code",
   "execution_count": 12,
   "id": "a94257cf-e29a-4d25-a286-a17ff3e5be0a",
   "metadata": {},
   "outputs": [
    {
     "name": "stdout",
     "output_type": "stream",
     "text": [
      "['False', 'None', 'True', 'and', 'as', 'assert', 'async', 'await', 'break', 'class', 'continue', 'def', 'del', 'elif', 'else', 'except', 'finally', 'for', 'from', 'global', 'if', 'import', 'in', 'is', 'lambda', 'nonlocal', 'not', 'or', 'pass', 'raise', 'return', 'try', 'while', 'with', 'yield']\n"
     ]
    }
   ],
   "source": [
    "\n",
    "#keyword\n",
    "import keyword\n",
    "print(keyword.kwlist)"
   ]
  },
  {
   "cell_type": "code",
   "execution_count": 13,
   "id": "4d1afb11-9977-4353-a7d5-cdb0be56278c",
   "metadata": {},
   "outputs": [
    {
     "name": "stdout",
     "output_type": "stream",
     "text": [
      "35\n"
     ]
    }
   ],
   "source": [
    "print(len(keyword.kwlist))"
   ]
  },
  {
   "cell_type": "code",
   "execution_count": null,
   "id": "3d9dc303-4821-4c7e-a0be-2e75e8aad93f",
   "metadata": {},
   "outputs": [],
   "source": [
    "_=5                                            # we can use _ as identiier name"
   ]
  },
  {
   "cell_type": "code",
   "execution_count": 14,
   "id": "e7aeae1c-0a86-4bd4-a99f-8e06a56de1a9",
   "metadata": {},
   "outputs": [
    {
     "name": "stdout",
     "output_type": "stream",
     "text": [
      "140711804978024\n"
     ]
    }
   ],
   "source": [
    "print(_)"
   ]
  },
  {
   "cell_type": "code",
   "execution_count": 15,
   "id": "14236f1e-8c28-42fd-97f6-04ca6ade1f9f",
   "metadata": {},
   "outputs": [
    {
     "name": "stdin",
     "output_type": "stream",
     "text": [
      " 45\n"
     ]
    },
    {
     "data": {
      "text/plain": [
       "'45'"
      ]
     },
     "execution_count": 15,
     "metadata": {},
     "output_type": "execute_result"
    }
   ],
   "source": [
    "\n",
    "#input()\n",
    "input()\n"
   ]
  },
  {
   "cell_type": "code",
   "execution_count": null,
   "id": "57f004a4-f3bd-400d-9222-0b5a0e0d8311",
   "metadata": {},
   "outputs": [],
   "source": [
    "num1=input()\n",
    "print(num1)\n"
   ]
  },
  {
   "cell_type": "code",
   "execution_count": null,
   "id": "81c91202-1004-475a-8fdc-aed62701cf48",
   "metadata": {},
   "outputs": [],
   "source": [
    "num2=input()\n",
    "print(num2)"
   ]
  },
  {
   "cell_type": "code",
   "execution_count": 1,
   "id": "50f8f86a-2928-4a53-a695-861067faa6fb",
   "metadata": {},
   "outputs": [
    {
     "ename": "NameError",
     "evalue": "name 'num1' is not defined",
     "output_type": "error",
     "traceback": [
      "\u001b[1;31m---------------------------------------------------------------------------\u001b[0m",
      "\u001b[1;31mNameError\u001b[0m                                 Traceback (most recent call last)",
      "Cell \u001b[1;32mIn[1], line 1\u001b[0m\n\u001b[1;32m----> 1\u001b[0m \u001b[38;5;28mprint\u001b[39m(num1\u001b[38;5;241m+\u001b[39mnum2)\n",
      "\u001b[1;31mNameError\u001b[0m: name 'num1' is not defined"
     ]
    }
   ],
   "source": [
    "print(num1+num2)\n"
   ]
  },
  {
   "cell_type": "code",
   "execution_count": 2,
   "id": "87753614-b826-4d73-96bf-243131761055",
   "metadata": {},
   "outputs": [
    {
     "name": "stdin",
     "output_type": "stream",
     "text": [
      " 45\n",
      " 45\n"
     ]
    },
    {
     "name": "stdout",
     "output_type": "stream",
     "text": [
      "90\n"
     ]
    }
   ],
   "source": [
    "num1=int(input())\n",
    "num2=int(input())\n",
    "print(num1+num2)"
   ]
  },
  {
   "cell_type": "code",
   "execution_count": 3,
   "id": "0f95fe29-b6d9-4c7b-b173-1e42ee3379ef",
   "metadata": {},
   "outputs": [
    {
     "name": "stdout",
     "output_type": "stream",
     "text": [
      "10\n"
     ]
    }
   ],
   "source": [
    "a=4\n",
    "b=6\n",
    "print(a+b)"
   ]
  },
  {
   "cell_type": "code",
   "execution_count": 4,
   "id": "631fc139-e446-4815-8925-b19fc6af3c65",
   "metadata": {},
   "outputs": [
    {
     "data": {
      "text/plain": [
       "1"
      ]
     },
     "execution_count": 4,
     "metadata": {},
     "output_type": "execute_result"
    }
   ],
   "source": [
    "#conversion\n",
    "#    to integer\n",
    "int(True)"
   ]
  },
  {
   "cell_type": "code",
   "execution_count": 5,
   "id": "d65c1c52-2e5b-4768-a824-d1619d633b4e",
   "metadata": {},
   "outputs": [
    {
     "data": {
      "text/plain": [
       "0"
      ]
     },
     "execution_count": 5,
     "metadata": {},
     "output_type": "execute_result"
    }
   ],
   "source": [
    "int(False)"
   ]
  },
  {
   "cell_type": "code",
   "execution_count": 6,
   "id": "dc4cfefc-69f0-4082-8e43-782fee427066",
   "metadata": {},
   "outputs": [
    {
     "ename": "ValueError",
     "evalue": "invalid literal for int() with base 10: 'shraddha'",
     "output_type": "error",
     "traceback": [
      "\u001b[1;31m---------------------------------------------------------------------------\u001b[0m",
      "\u001b[1;31mValueError\u001b[0m                                Traceback (most recent call last)",
      "Cell \u001b[1;32mIn[6], line 1\u001b[0m\n\u001b[1;32m----> 1\u001b[0m \u001b[38;5;28mint\u001b[39m(\u001b[38;5;124m\"\u001b[39m\u001b[38;5;124mshraddha\u001b[39m\u001b[38;5;124m\"\u001b[39m)\n",
      "\u001b[1;31mValueError\u001b[0m: invalid literal for int() with base 10: 'shraddha'"
     ]
    }
   ],
   "source": [
    "int(\"shraddha\")"
   ]
  },
  {
   "cell_type": "code",
   "execution_count": 7,
   "id": "768b6b4b-d228-4ba7-9480-455c4428ca8d",
   "metadata": {},
   "outputs": [
    {
     "data": {
      "text/plain": [
       "23"
      ]
     },
     "execution_count": 7,
     "metadata": {},
     "output_type": "execute_result"
    }
   ],
   "source": [
    "int(23)"
   ]
  },
  {
   "cell_type": "code",
   "execution_count": 8,
   "id": "8684e785-7207-42c5-a8a2-290d862d417b",
   "metadata": {},
   "outputs": [
    {
     "data": {
      "text/plain": [
       "4"
      ]
     },
     "execution_count": 8,
     "metadata": {},
     "output_type": "execute_result"
    }
   ],
   "source": [
    "int(4.7)"
   ]
  },
  {
   "cell_type": "code",
   "execution_count": 9,
   "id": "a60b2d11-d933-412e-8fb2-a1ae39af5c90",
   "metadata": {},
   "outputs": [
    {
     "data": {
      "text/plain": [
       "1234"
      ]
     },
     "execution_count": 9,
     "metadata": {},
     "output_type": "execute_result"
    }
   ],
   "source": [
    "int(\"1234\")"
   ]
  },
  {
   "cell_type": "code",
   "execution_count": 10,
   "id": "8390f160-b11a-4d29-86d5-beb4616d9567",
   "metadata": {},
   "outputs": [
    {
     "data": {
      "text/plain": [
       "10.7"
      ]
     },
     "execution_count": 10,
     "metadata": {},
     "output_type": "execute_result"
    }
   ],
   "source": [
    "\n",
    "#     to float\n",
    "float(10.7)\n"
   ]
  },
  {
   "cell_type": "code",
   "execution_count": 11,
   "id": "9280fccc-7596-4d5f-8c03-432c08fa0a07",
   "metadata": {},
   "outputs": [
    {
     "ename": "ValueError",
     "evalue": "could not convert string to float: 'shraddha'",
     "output_type": "error",
     "traceback": [
      "\u001b[1;31m---------------------------------------------------------------------------\u001b[0m",
      "\u001b[1;31mValueError\u001b[0m                                Traceback (most recent call last)",
      "Cell \u001b[1;32mIn[11], line 1\u001b[0m\n\u001b[1;32m----> 1\u001b[0m \u001b[38;5;28mfloat\u001b[39m(\u001b[38;5;124m\"\u001b[39m\u001b[38;5;124mshraddha\u001b[39m\u001b[38;5;124m\"\u001b[39m)\n",
      "\u001b[1;31mValueError\u001b[0m: could not convert string to float: 'shraddha'"
     ]
    }
   ],
   "source": [
    "float(\"shraddha\")"
   ]
  },
  {
   "cell_type": "code",
   "execution_count": 12,
   "id": "4dcc1461-f89c-4158-91cf-e1ea783006af",
   "metadata": {},
   "outputs": [
    {
     "data": {
      "text/plain": [
       "10.0"
      ]
     },
     "execution_count": 12,
     "metadata": {},
     "output_type": "execute_result"
    }
   ],
   "source": [
    "float(10)"
   ]
  },
  {
   "cell_type": "code",
   "execution_count": 13,
   "id": "4e0c7b68-69ea-4159-bc1a-379d89112308",
   "metadata": {},
   "outputs": [
    {
     "data": {
      "text/plain": [
       "1.0"
      ]
     },
     "execution_count": 13,
     "metadata": {},
     "output_type": "execute_result"
    }
   ],
   "source": [
    "float(True)"
   ]
  },
  {
   "cell_type": "code",
   "execution_count": 14,
   "id": "56d14bd2-1289-4861-a55b-fc0fb4f0f0a6",
   "metadata": {},
   "outputs": [
    {
     "data": {
      "text/plain": [
       "0.0"
      ]
     },
     "execution_count": 14,
     "metadata": {},
     "output_type": "execute_result"
    }
   ],
   "source": [
    "float(False)"
   ]
  },
  {
   "cell_type": "code",
   "execution_count": 15,
   "id": "523c9f05-37f2-4226-8f10-75a84700bc1f",
   "metadata": {},
   "outputs": [
    {
     "ename": "SyntaxError",
     "evalue": "invalid decimal literal (1798870391.py, line 1)",
     "output_type": "error",
     "traceback": [
      "\u001b[1;36m  Cell \u001b[1;32mIn[15], line 1\u001b[1;36m\u001b[0m\n\u001b[1;33m    float(3+6k)\u001b[0m\n\u001b[1;37m            ^\u001b[0m\n\u001b[1;31mSyntaxError\u001b[0m\u001b[1;31m:\u001b[0m invalid decimal literal\n"
     ]
    }
   ],
   "source": [
    "float(3+6k)\n"
   ]
  },
  {
   "cell_type": "code",
   "execution_count": 16,
   "id": "febe6833-410a-4729-aa8a-6e5d972f130f",
   "metadata": {},
   "outputs": [
    {
     "data": {
      "text/plain": [
       "'10'"
      ]
     },
     "execution_count": 16,
     "metadata": {},
     "output_type": "execute_result"
    }
   ],
   "source": [
    "\n",
    "#     to string\n",
    "str(10)"
   ]
  },
  {
   "cell_type": "code",
   "execution_count": 17,
   "id": "a0e3e7e7-affe-4f72-97d0-3be50ff01fd0",
   "metadata": {},
   "outputs": [
    {
     "data": {
      "text/plain": [
       "'shraddha'"
      ]
     },
     "execution_count": 17,
     "metadata": {},
     "output_type": "execute_result"
    }
   ],
   "source": [
    "str(\"shraddha\")"
   ]
  },
  {
   "cell_type": "code",
   "execution_count": 18,
   "id": "0147bf43-ab31-463e-9576-f57f3768e285",
   "metadata": {},
   "outputs": [
    {
     "data": {
      "text/plain": [
       "'4.7'"
      ]
     },
     "execution_count": 18,
     "metadata": {},
     "output_type": "execute_result"
    }
   ],
   "source": [
    "str(4.7)"
   ]
  },
  {
   "cell_type": "code",
   "execution_count": 19,
   "id": "f5512c3c-bac9-49c9-aaec-3e5bf90c4860",
   "metadata": {},
   "outputs": [
    {
     "data": {
      "text/plain": [
       "'True'"
      ]
     },
     "execution_count": 19,
     "metadata": {},
     "output_type": "execute_result"
    }
   ],
   "source": [
    "str(True)"
   ]
  },
  {
   "cell_type": "code",
   "execution_count": 20,
   "id": "c8bb01e4-e833-4830-b96a-038b4f46db0b",
   "metadata": {},
   "outputs": [
    {
     "data": {
      "text/plain": [
       "'(3+5j)'"
      ]
     },
     "execution_count": 20,
     "metadata": {},
     "output_type": "execute_result"
    }
   ],
   "source": [
    "str(3+5j)"
   ]
  },
  {
   "cell_type": "code",
   "execution_count": 21,
   "id": "72e05f86-79f7-42e4-9814-ae71225f237b",
   "metadata": {},
   "outputs": [
    {
     "data": {
      "text/plain": [
       "True"
      ]
     },
     "execution_count": 21,
     "metadata": {},
     "output_type": "execute_result"
    }
   ],
   "source": [
    "\n",
    "#    to boolean\n",
    "bool(28)"
   ]
  },
  {
   "cell_type": "code",
   "execution_count": 22,
   "id": "4ad02ac8-d6fe-4916-9e34-0ee8a3a1e312",
   "metadata": {},
   "outputs": [
    {
     "data": {
      "text/plain": [
       "True"
      ]
     },
     "execution_count": 22,
     "metadata": {},
     "output_type": "execute_result"
    }
   ],
   "source": [
    "bool(\"shraddha\")"
   ]
  },
  {
   "cell_type": "code",
   "execution_count": 23,
   "id": "d80bb604-fb6e-437a-a5ac-ca677ff7c07d",
   "metadata": {},
   "outputs": [
    {
     "data": {
      "text/plain": [
       "False"
      ]
     },
     "execution_count": 23,
     "metadata": {},
     "output_type": "execute_result"
    }
   ],
   "source": [
    "bool(\"\")"
   ]
  },
  {
   "cell_type": "code",
   "execution_count": 24,
   "id": "e869039b-f340-40a3-b925-91eba6883563",
   "metadata": {},
   "outputs": [
    {
     "data": {
      "text/plain": [
       "True"
      ]
     },
     "execution_count": 24,
     "metadata": {},
     "output_type": "execute_result"
    }
   ],
   "source": [
    "bool(\" \")"
   ]
  },
  {
   "cell_type": "code",
   "execution_count": 25,
   "id": "8425da80-6710-486e-b88b-d3446063ed89",
   "metadata": {},
   "outputs": [
    {
     "data": {
      "text/plain": [
       "False"
      ]
     },
     "execution_count": 25,
     "metadata": {},
     "output_type": "execute_result"
    }
   ],
   "source": [
    "bool(0)"
   ]
  },
  {
   "cell_type": "code",
   "execution_count": 26,
   "id": "9de274f6-df63-4670-bce4-8c66ca04981b",
   "metadata": {},
   "outputs": [
    {
     "data": {
      "text/plain": [
       "True"
      ]
     },
     "execution_count": 26,
     "metadata": {},
     "output_type": "execute_result"
    }
   ],
   "source": [
    "bool(\"0\")"
   ]
  },
  {
   "cell_type": "code",
   "execution_count": 27,
   "id": "c56b7900-a69f-4109-abc7-bf65a716b756",
   "metadata": {},
   "outputs": [
    {
     "name": "stdout",
     "output_type": "stream",
     "text": [
      "12\n",
      "8\n",
      "20\n",
      "5.0\n",
      "0\n",
      "5\n",
      "9\n"
     ]
    }
   ],
   "source": [
    "#operator\n",
    "#arithmetical operator\n",
    "print(10+2)                          #addition\n",
    "print(10-2)                          #substraction\n",
    "print(10*2)                          #mul\n",
    "print(10/2)                          #div\n",
    "print(10%2)                          #mod (gives reminder)\n",
    "print(10//2)                         #floor division (it gives main digit before decimal point\n",
    "print(3**2)                          #exponent\n"
   ]
  },
  {
   "cell_type": "code",
   "execution_count": null,
   "id": "e8e5dc72-8c16-431a-8792-888093940893",
   "metadata": {},
   "outputs": [],
   "source": [
    "\n",
    "\n",
    "#take a 3 digit no and print its addition\n",
    "num=int(input())\n",
    "a=num%10\n",
    "num=num//10\n",
    "b=num%10\n",
    "c=num/10\n"
   ]
  },
  {
   "cell_type": "code",
   "execution_count": null,
   "id": "2fd7adf7-badb-4ad4-8cfd-b9f51543f6cc",
   "metadata": {},
   "outputs": [],
   "source": []
  },
  {
   "cell_type": "code",
   "execution_count": null,
   "id": "1cf046f3-dbc8-4ccd-aa09-e2368c0275fb",
   "metadata": {},
   "outputs": [],
   "source": []
  }
 ],
 "metadata": {
  "kernelspec": {
   "display_name": "Python 3 (ipykernel)",
   "language": "python",
   "name": "python3"
  },
  "language_info": {
   "codemirror_mode": {
    "name": "ipython",
    "version": 3
   },
   "file_extension": ".py",
   "mimetype": "text/x-python",
   "name": "python",
   "nbconvert_exporter": "python",
   "pygments_lexer": "ipython3",
   "version": "3.11.7"
  }
 },
 "nbformat": 4,
 "nbformat_minor": 5
}
