{
 "cells": [
  {
   "cell_type": "markdown",
   "id": "74760d83-f131-4f4e-9317-8d0ed22e70d6",
   "metadata": {},
   "source": [
    "Problem-1: Write a Python function that takes a list and returns a new list with unique elements of the first list.\n",
    "Exercise 1:\n",
    "\n",
    "Input:\n",
    "\n",
    "[1,2,3,3,3,3,4,5]\n",
    "Output:\n",
    "\n",
    "[1, 2, 3, 4, 5]"
   ]
  },
  {
   "cell_type": "code",
   "execution_count": 27,
   "id": "9c25142f-df49-434f-a499-6d86465601b7",
   "metadata": {},
   "outputs": [
    {
     "name": "stdout",
     "output_type": "stream",
     "text": [
      "[1, 2, 3, 4, 5]\n"
     ]
    }
   ],
   "source": [
    "def unique_elements(input_list):\n",
    "    return list(set(input_list))\n",
    "\n",
    "# Example usage\n",
    "input_list = [1, 2, 3, 3, 3, 3, 4, 5]\n",
    "output_list = unique_elements(input_list)\n",
    "print(output_list)  # Output: [1, 2, 3, 4, 5]"
   ]
  },
  {
   "cell_type": "markdown",
   "id": "b2ddedf9-6631-4f18-a04d-e812138a3513",
   "metadata": {},
   "source": [
    "Problem-2: Write a Python function that accepts a hyphen-separated sequence of words as parameter and returns the words\n",
    "in a hyphen-separated sequence after sorting them alphabetically.\n",
    "Example 1:\n",
    "\n",
    "Input:\n",
    "\n",
    "green-red-yellow-black-white\n",
    "Output:\n",
    "\n",
    "black-green-red-white-yellow"
   ]
  },
  {
   "cell_type": "code",
   "execution_count": 26,
   "id": "deb5be70-742f-4d1c-8687-b4fdde90e777",
   "metadata": {},
   "outputs": [
    {
     "name": "stdout",
     "output_type": "stream",
     "text": [
      "black-green-red-white-yellow\n"
     ]
    }
   ],
   "source": [
    "def sort_hyphenated_sequence(sequence):\n",
    "    words = sequence.split('-')\n",
    "    words.sort()\n",
    "    return '-'.join(words)\n",
    "\n",
    "# Example usage\n",
    "input_sequence = \"green-red-yellow-black-white\"\n",
    "output_sequence = sort_hyphenated_sequence(input_sequence)\n",
    "print(output_sequence)  # Output: black-green-red-white-yellow"
   ]
  },
  {
   "cell_type": "markdown",
   "id": "32521a35-be93-4629-8994-7760153193b8",
   "metadata": {},
   "source": [
    "Problem 3: Write a Python function that accepts a string and calculate the number of upper case letters and lower case letters.\n",
    "Sample String : 'CampusX is an Online Mentorship Program fOr EnginEering studentS.'\n",
    "Expected Output :\n",
    "No. of Upper case characters :  9\n",
    "No. of Lower case Characters :  47"
   ]
  },
  {
   "cell_type": "code",
   "execution_count": 25,
   "id": "4806a8e1-1e05-48a9-9ffa-ad9ca22ccb92",
   "metadata": {},
   "outputs": [
    {
     "name": "stdout",
     "output_type": "stream",
     "text": [
      "No. of Upper case characters: 9\n",
      "No. of Lower case Characters: 47\n"
     ]
    }
   ],
   "source": [
    "def count_case_characters(input_string):\n",
    "    upper_case_count = sum(1 for char in input_string if char.isupper())\n",
    "    lower_case_count = sum(1 for char in input_string if char.islower())\n",
    "    return upper_case_count, lower_case_count\n",
    "\n",
    "# Example usage\n",
    "sample_string = 'CampusX is an Online Mentorship Program fOr EnginEering studentS.'\n",
    "upper_case, lower_case = count_case_characters(sample_string)\n",
    "print(\"No. of Upper case characters:\", upper_case)\n",
    "print(\"No. of Lower case Characters:\", lower_case)\n",
    "\n",
    "# Expected Output:\n",
    "# No. of Upper case characters: 9\n",
    "# No. of Lower case Characters: 47"
   ]
  },
  {
   "cell_type": "markdown",
   "id": "be19f02d-e618-4370-93fe-cd0e1ae014fd",
   "metadata": {},
   "source": [
    "Problem 4: Write a Python program to print the even numbers from a given list.\n",
    "Sample List : [1, 2, 3, 4, 5, 6, 7, 8, 9]\n",
    "Expected Result : [2, 4, 6, 8]\n"
   ]
  },
  {
   "cell_type": "code",
   "execution_count": 24,
   "id": "03211ba1-6e01-4802-b72e-d65e350c068e",
   "metadata": {},
   "outputs": [
    {
     "name": "stdout",
     "output_type": "stream",
     "text": [
      "[2, 4, 6, 8]\n"
     ]
    }
   ],
   "source": [
    "def get_even_numbers(lst):\n",
    "    even_numbers = [num for num in lst if num % 2 == 0]\n",
    "    return even_numbers\n",
    "\n",
    "# Sample List\n",
    "sample_list = [1, 2, 3, 4, 5, 6, 7, 8, 9]\n",
    "\n",
    "# Get even numbers from the sample list\n",
    "result = get_even_numbers(sample_list)\n",
    "\n",
    "# Print the result\n",
    "print(result)"
   ]
  },
  {
   "cell_type": "markdown",
   "id": "cfb75102-85b1-47d3-8588-75bb7fcc1962",
   "metadata": {},
   "source": [
    "Problem 5: Write a Python function to check whether a number is perfect or not.\n",
    "A Perfect number is a number that is half the sum of all of its positive divisors (including itself).\n",
    "\n",
    "Example :\n",
    "\n",
    "The first perfect number is 6, because 1, 2, and 3 are its proper positive divisors, and 1 + 2 + 3 = 6. \n",
    "Equivalently, the number 6 is equal to half the sum of all its positive divisors: ( 1 + 2 + 3 + 6 ) / 2 = 6. \n",
    "\n",
    "The next perfect number is 28 = 1 + 2 + 4 + 7 + 14. This is followed by the perfect numbers 496 and 8128.\n"
   ]
  },
  {
   "cell_type": "code",
   "execution_count": 23,
   "id": "165becbf-d89f-4708-8f2c-1cfdb4b03c8f",
   "metadata": {},
   "outputs": [
    {
     "name": "stdout",
     "output_type": "stream",
     "text": [
      "True\n",
      "True\n",
      "True\n",
      "True\n",
      "False\n"
     ]
    }
   ],
   "source": [
    "def is_perfect_number(n):\n",
    "    # Find all divisors of n\n",
    "    divisors = [i for i in range(1, n) if n % i == 0]\n",
    "    \n",
    "    # Check if the sum of divisors equals the number\n",
    "    return sum(divisors) == n\n",
    "\n",
    "# Test the function with some examples\n",
    "print(is_perfect_number(6))   # True\n",
    "print(is_perfect_number(28))  # True\n",
    "print(is_perfect_number(496)) # True\n",
    "print(is_perfect_number(8128))# True\n",
    "print(is_perfect_number(10))  # False"
   ]
  },
  {
   "cell_type": "markdown",
   "id": "679bd46a-c4a7-4da2-b62a-e4c5b3d97306",
   "metadata": {},
   "source": [
    "Problem-6: Write a Python function to concatenate any no of dictionaries to create a new one.\n",
    "Sample Dictionary :\n",
    "dic1={1:10, 2:20}\n",
    "dic2={3:30, 4:40}\n",
    "dic3={5:50,6:60}\n",
    "Expected Result : {1: 10, 2: 20, 3: 30, 4: 40, 5: 50, 6: 60}"
   ]
  },
  {
   "cell_type": "code",
   "execution_count": 22,
   "id": "1bbe2a1e-fa1d-4c7c-9649-3533e532f1e6",
   "metadata": {},
   "outputs": [
    {
     "name": "stdout",
     "output_type": "stream",
     "text": [
      "{1: 10, 2: 20, 3: 30, 4: 40, 5: 50, 6: 60}\n"
     ]
    }
   ],
   "source": [
    "def concatenate_dictionaries(*dicts):\n",
    "    result = {}\n",
    "    for d in dicts:\n",
    "        result.update(d)\n",
    "    return result\n",
    "\n",
    "# Sample dictionaries\n",
    "dic1 = {1: 10, 2: 20}\n",
    "dic2 = {3: 30, 4: 40}\n",
    "dic3 = {5: 50, 6: 60}\n",
    "\n",
    "# Concatenate dictionaries\n",
    "result = concatenate_dictionaries(dic1, dic2, dic3)\n",
    "\n",
    "# Print the result\n",
    "print(result)"
   ]
  },
  {
   "cell_type": "markdown",
   "id": "a26f363f-53f2-44be-9a6f-a1c23f5bceae",
   "metadata": {},
   "source": [
    "Problem-7 Write a python function that accepts a string as input and returns the word with most occurence.\n",
    "\n",
    "Input:\n",
    "hello how are you i am fine thank you\n",
    "Output\n",
    "you -> 2"
   ]
  },
  {
   "cell_type": "code",
   "execution_count": 21,
   "id": "7536d018-9f6f-4ab0-87b1-4d2ff7e72bda",
   "metadata": {},
   "outputs": [
    {
     "name": "stdout",
     "output_type": "stream",
     "text": [
      "you -> 2\n"
     ]
    }
   ],
   "source": [
    "def most_frequent_word(s):\n",
    "    # Split the string into words\n",
    "    words = s.split()\n",
    "    \n",
    "    # Create a dictionary to count occurrences of each word\n",
    "    word_count = {}\n",
    "    for word in words:\n",
    "        if word in word_count:\n",
    "            word_count[word] += 1\n",
    "        else:\n",
    "            word_count[word] = 1\n",
    "    \n",
    "    # Find the word with the maximum count\n",
    "    most_frequent = max(word_count, key=word_count.get)\n",
    "    \n",
    "    return most_frequent, word_count[most_frequent]\n",
    "\n",
    "# Input string\n",
    "input_string = \"hello how are you i am fine thank you\"\n",
    "\n",
    "# Get the most frequent word\n",
    "word, count = most_frequent_word(input_string)\n",
    "\n",
    "# Print the result\n",
    "print(f\"{word} -> {count}\")"
   ]
  },
  {
   "cell_type": "markdown",
   "id": "f83ee264-c3a1-4cfb-a445-b18e1f38d73d",
   "metadata": {},
   "source": [
    "Problem-8 Write a python function that receives a list of integers and prints out a histogram of bin size 10\n",
    "\n",
    "Input:\n",
    "[13,42,15,37,22,39,41,50]\n",
    "Output:\n",
    "{11-20:2,21-30:1,31-40:2,41-50:3}"
   ]
  },
  {
   "cell_type": "code",
   "execution_count": 20,
   "id": "1c01b5c3-b797-4373-9e32-ddd3b3de932f",
   "metadata": {},
   "outputs": [
    {
     "name": "stdout",
     "output_type": "stream",
     "text": [
      "11-20:2\n",
      "21-30:1\n",
      "31-40:2\n",
      "41-50:2\n",
      "51-60:1\n"
     ]
    }
   ],
   "source": [
    "def create_histogram(lst):\n",
    "    # Create an empty dictionary to store the histogram\n",
    "    histogram = {}\n",
    "\n",
    "    # Iterate over the list and calculate the bin for each number\n",
    "    for number in lst:\n",
    "        bin_start = (number // 10) * 10 + 1\n",
    "        bin_end = bin_start + 9\n",
    "        bin_range = f\"{bin_start}-{bin_end}\"\n",
    "\n",
    "        if bin_range in histogram:\n",
    "            histogram[bin_range] += 1\n",
    "        else:\n",
    "            histogram[bin_range] = 1\n",
    "\n",
    "    # Print the histogram\n",
    "    for bin_range in sorted(histogram):\n",
    "        print(f\"{bin_range}:{histogram[bin_range]}\")\n",
    "\n",
    "# Input list\n",
    "input_list = [13, 42, 15, 37, 22, 39, 41, 50]\n",
    "\n",
    "# Create and print the histogram\n",
    "create_histogram(input_list)"
   ]
  },
  {
   "cell_type": "markdown",
   "id": "d13085b2-8116-4b29-b7c9-994f5ba72ad0",
   "metadata": {},
   "source": [
    "9 Write a python function that accepts a list of 2D co-ordinates and a query point, and then finds the the co-ordinate which is closest in terms of distance from the query point.\n",
    "\n",
    "List of Coordinates\n",
    "[(1,1),(2,2),(3,3),(4,4)]\n",
    "Query Point\n",
    "(0,0)\n",
    "Output\n",
    "Nearest to (0,0) is (1,1)"
   ]
  },
  {
   "cell_type": "code",
   "execution_count": 19,
   "id": "11fe2c7e-f57b-4483-90f6-9a20cf464c05",
   "metadata": {},
   "outputs": [
    {
     "name": "stdout",
     "output_type": "stream",
     "text": [
      "Nearest to (0, 0) is (1, 1)\n"
     ]
    }
   ],
   "source": [
    "import math\n",
    "\n",
    "def find_nearest_coordinate(coords, query_point):\n",
    "    min_distance = float('inf')\n",
    "    nearest_coord = None\n",
    "    \n",
    "    for coord in coords:\n",
    "        distance = math.sqrt((coord[0] - query_point[0]) * 2 + (coord[1] - query_point[1]) * 2)\n",
    "        if distance < min_distance:\n",
    "            min_distance = distance\n",
    "            nearest_coord = coord\n",
    "    \n",
    "    return nearest_coord\n",
    "\n",
    "# List of Coordinates\n",
    "coordinates = [(1, 1), (2, 2), (3, 3), (4, 4)]\n",
    "\n",
    "# Query Point\n",
    "query_point = (0, 0)\n",
    "\n",
    "# Find the nearest coordinate\n",
    "nearest = find_nearest_coordinate(coordinates, query_point)\n",
    "\n",
    "# Print the result\n",
    "print(f\"Nearest to {query_point} is {nearest}\")"
   ]
  },
  {
   "cell_type": "markdown",
   "id": "2375a886-6b54-4224-92ed-44a0a8c91959",
   "metadata": {},
   "source": [
    "Problem-10:Write a python program that receives a list of strings and performs bag of word operation on those strings\n",
    "\n",
    "https://en.wikipedia.org/wiki/Bag-of-words_model\n"
   ]
  },
  {
   "cell_type": "code",
   "execution_count": 18,
   "id": "1e0ac3dc-1735-44ad-92f4-7dc730e10a54",
   "metadata": {},
   "outputs": [
    {
     "name": "stdout",
     "output_type": "stream",
     "text": [
      "the: 1\n",
      "quick: 1\n",
      "brown: 1\n",
      "fox: 1\n"
     ]
    }
   ],
   "source": [
    "def bag_of_words(strings):\n",
    "    # Create an empty dictionary to store the bag-of-words\n",
    "    bow = {}\n",
    "    \n",
    "    # Iterate over each string in the list\n",
    "    for string in strings:\n",
    "        # Split the string into words\n",
    "        words = string.split()\n",
    "        \n",
    "        # Iterate over each word in the string\n",
    "        for word in words:\n",
    "            # Convert word to lowercase to make the count case-insensitive\n",
    "            word = word.lower()\n",
    "            \n",
    "            # Increment the count of the word in the dictionary\n",
    "            if word in bow:\n",
    "                bow[word] += 1\n",
    "            else:\n",
    "                bow[word] = 1\n",
    "        return bow\n",
    "\n",
    "# List of strings\n",
    "strings = [\n",
    "    \"The quick brown fox\",\n",
    "    \"jumps over the lazy dog\",\n",
    "    \"The quick blue cat\"\n",
    "]\n",
    "\n",
    "# Perform bag-of-words operation\n",
    "bow_result = bag_of_words(strings)\n",
    "\n",
    "# Print the result\n",
    "for word, count in bow_result.items():\n",
    "    print(f\"{word}: {count}\")"
   ]
  },
  {
   "cell_type": "markdown",
   "id": "3a177fd3-e06f-4a51-8b68-d1007b0255d1",
   "metadata": {},
   "source": [
    "Problem 11: Write a Python program to add three given lists using Python map and lambda.\n"
   ]
  },
  {
   "cell_type": "code",
   "execution_count": 6,
   "id": "61e968d2-72a2-41c9-8954-ddfff5deb9f5",
   "metadata": {},
   "outputs": [
    {
     "name": "stdout",
     "output_type": "stream",
     "text": [
      "[18, 21, 24, 27, 30]\n"
     ]
    }
   ],
   "source": [
    "list1 = [1, 2, 3, 4, 5]\n",
    "list2 = [6, 7, 8, 9, 10]\n",
    "list3 = [11, 12, 13, 14, 15]\n",
    "\n",
    "# Using map and lambda to add corresponding elements\n",
    "result = list(map(lambda x, y, z: x + y + z, list1, list2, list3))\n",
    "\n",
    "# Print the result\n",
    "print(result)"
   ]
  },
  {
   "cell_type": "markdown",
   "id": "a20bc754-234a-49aa-927c-8d33a758fd0a",
   "metadata": {},
   "source": [
    "Problem-12:Write a Python program to create a list containing the power of said number in bases raised to the corresponding number in the index using Python map.\n",
    "Input:\n",
    "\n",
    "list1 = [1,2,3,4,5,6]\n",
    "Output:\n",
    "\n",
    "[1,2,9,64,625,-]"
   ]
  },
  {
   "cell_type": "code",
   "execution_count": 5,
   "id": "548bfe34-a3c5-4201-89dd-77ae20218eef",
   "metadata": {},
   "outputs": [
    {
     "name": "stdout",
     "output_type": "stream",
     "text": [
      "[1, 2, 9, 64, 625, 7776]\n"
     ]
    }
   ],
   "source": [
    "list1 = [1, 2, 3, 4, 5, 6]\n",
    "\n",
    "# Using map with lambda function to compute power of elements\n",
    "result = list(map(lambda base, exponent: base ** exponent, list1, range(len(list1))))\n",
    "\n",
    "# Print the result\n",
    "print(result)"
   ]
  },
  {
   "cell_type": "markdown",
   "id": "ac0277e0-848c-4427-b0a4-73bffaa0ddda",
   "metadata": {},
   "source": [
    "Problem-13 Using filter() and list() functions and .lower() method filter all the vowels in a given string.\n"
   ]
  },
  {
   "cell_type": "code",
   "execution_count": 4,
   "id": "e7e393dc-7a49-42a8-9ab6-88956a3ec142",
   "metadata": {},
   "outputs": [
    {
     "name": "stdout",
     "output_type": "stream",
     "text": [
      "['e', 'o', 'o', 'o', 'a', 'e', 'o', 'u']\n"
     ]
    }
   ],
   "source": [
    "def filter_vowels(s):\n",
    "    vowels = \"aeiou\"\n",
    "    filtered_vowels = list(filter(lambda x: x.lower() in vowels, s))\n",
    "    return filtered_vowels\n",
    "\n",
    "# Example string\n",
    "input_string = \"Hello World! How are you?\"\n",
    "\n",
    "# Filter vowels\n",
    "filtered_vowels = filter_vowels(input_string)\n",
    "\n",
    "# Print the result\n",
    "print(filtered_vowels)"
   ]
  },
  {
   "cell_type": "markdown",
   "id": "10566564-a976-4989-aa4c-f9388460f9ae",
   "metadata": {},
   "source": [
    "Problem-14: Use reduce to convert a 2D list to 1D\n"
   ]
  },
  {
   "cell_type": "code",
   "execution_count": 3,
   "id": "e877bced-3eb0-4a7a-845c-17825e7ebc88",
   "metadata": {},
   "outputs": [
    {
     "name": "stdout",
     "output_type": "stream",
     "text": [
      "[1, 2, 3, 4, 5, 6, 7, 8, 9]\n"
     ]
    }
   ],
   "source": [
    "from functools import reduce\n",
    "\n",
    "# Example 2D list\n",
    "list_2d = [[1, 2, 3], [4, 5], [6, 7, 8, 9]]\n",
    "\n",
    "# Using reduce to flatten the 2D list to 1D list\n",
    "list_1d = reduce(lambda x, y: x + y, list_2d)\n",
    "\n",
    "# Print the result\n",
    "print(list_1d)"
   ]
  },
  {
   "cell_type": "markdown",
   "id": "2a5b42c0-0e11-4ab5-b096-afac57f4fd8e",
   "metadata": {},
   "source": [
    "Problem 15- A dictionary contains following information about 5 employees:\n",
    "\n",
    "First name\n",
    "Last name\n",
    "Age\n",
    "Grade(Skilled,Semi-skilled,Highly skilled)\n",
    "Write a program using map/filter/reduce to a list of employees(first name + last name) who are highly skilled\n",
    "[ ]\n",
    "# Write code here\n",
    "employees = [\n",
    "    {\n",
    "        'fname':'Nitish',\n",
    "        'lname':'Singh',\n",
    "        'age' : 33,\n",
    "        'grade':'skilled'\n",
    "    },\n",
    "    {\n",
    "        'fname':'Ankit',\n",
    "        'lname':'Verma',\n",
    "        'age' : 34,\n",
    "        'grade':'semi-skilled'\n",
    "    },\n",
    "    {\n",
    "        'fname':'Neha',\n",
    "        'lname':'Singh',\n",
    "        'age' : 35,\n",
    "        'grade':'highly-skilled'\n",
    "    },\n",
    "    {\n",
    "        'fname':'Anurag',\n",
    "        'lname':'Kumar',\n",
    "        'age' : 30,\n",
    "        'grade':'skilled'\n",
    "    },\n",
    "    {\n",
    "        'fname':'Abhinav',\n",
    "        'lname':'Sharma',\n",
    "        'age' : 37,\n",
    "        'grade':'highly-skilled'\n",
    "    }\n",
    "    \n",
    "]\n",
    "\n",
    "list(map(lambda x:x['fname'] + ' ' + x['lname'],list(filter(lambda x:True if x['grade'] == 'highly-skilled' else False,employees))))\n",
    "['Neha Singh', 'Abhinav Sharma']"
   ]
  },
  {
   "cell_type": "code",
   "execution_count": 2,
   "id": "6fb031ad-3241-4a8a-9fb2-196071c769d4",
   "metadata": {},
   "outputs": [
    {
     "name": "stdout",
     "output_type": "stream",
     "text": [
      "['Ankit Sharma', 'Neha Singh', 'Priya Gupta']\n"
     ]
    }
   ],
   "source": [
    "from functools import reduce\n",
    "\n",
    "employees = [\n",
    "    {\n",
    "        'fname': 'Nitish',\n",
    "        'lname': 'Singh',\n",
    "        'age': 33,\n",
    "        'grade': 'skilled'\n",
    "    },\n",
    "    {\n",
    "        'fname': 'Ankit',\n",
    "        'lname': 'Sharma',\n",
    "        'age': 28,\n",
    "        'grade': 'highly skilled'\n",
    "    },\n",
    "    {\n",
    "        'fname': 'Neha',\n",
    "        'lname': 'Singh',\n",
    "        'age': 30,\n",
    "        'grade': 'highly skilled'\n",
    "    },\n",
    "    {\n",
    "        'fname': 'Abhinav',\n",
    "        'lname': 'Sharma',\n",
    "        'age': 35,\n",
    "        'grade': 'semi-skilled'\n",
    "    },\n",
    "    {\n",
    "        'fname': 'Priya',\n",
    "        'lname': 'Gupta',\n",
    "        'age': 25,\n",
    "        'grade': 'highly skilled'\n",
    "    }\n",
    "]\n",
    "\n",
    "# Filtering employees who are highly skilled\n",
    "highly_skilled_employees = list(filter(lambda x: x['grade'] == 'highly skilled', employees))\n",
    "\n",
    "# Extracting first name and last name using map\n",
    "employee_names = list(map(lambda x: x['fname'] + ' ' + x['lname'], highly_skilled_employees))\n",
    "\n",
    "print(employee_names)"
   ]
  },
  {
   "cell_type": "code",
   "execution_count": null,
   "id": "f1e928cc-58d8-43a1-a758-1248948e3592",
   "metadata": {},
   "outputs": [],
   "source": []
  }
 ],
 "metadata": {
  "kernelspec": {
   "display_name": "Python 3 (ipykernel)",
   "language": "python",
   "name": "python3"
  },
  "language_info": {
   "codemirror_mode": {
    "name": "ipython",
    "version": 3
   },
   "file_extension": ".py",
   "mimetype": "text/x-python",
   "name": "python",
   "nbconvert_exporter": "python",
   "pygments_lexer": "ipython3",
   "version": "3.11.7"
  }
 },
 "nbformat": 4,
 "nbformat_minor": 5
}
