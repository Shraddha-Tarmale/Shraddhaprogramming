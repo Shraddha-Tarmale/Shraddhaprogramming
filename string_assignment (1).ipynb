{
 "cells": [
  {
   "cell_type": "code",
   "execution_count": 2,
   "id": "3a98d9c0-b652-4604-9997-dd39f5c7f644",
   "metadata": {},
   "outputs": [
    {
     "name": "stdin",
     "output_type": "stream",
     "text": [
      "enter a string om\n"
     ]
    },
    {
     "name": "stdout",
     "output_type": "stream",
     "text": [
      "lenght os string is 1\n",
      "lenght os string is 2\n"
     ]
    }
   ],
   "source": [
    "Q:1\n",
    "## find the legth of given string(given by user ) \n",
    "#without using len() function\n",
    "\n",
    "str=(input(\"enter a string\"))\n",
    "count=0\n",
    "for i in str:\n",
    "    count += 1\n",
    "    print(\"lenght os string is\",count)\n",
    "   \n",
    "   \n"
   ]
  },
  {
   "cell_type": "code",
   "execution_count": 12,
   "id": "23f20371-4c31-4514-9ac9-c300e3d3d58e",
   "metadata": {},
   "outputs": [
    {
     "name": "stdin",
     "output_type": "stream",
     "text": [
      "enter mail_id tarmaleshraddha@gamil.com\n"
     ]
    },
    {
     "name": "stdout",
     "output_type": "stream",
     "text": [
      "tarmaleshraddha\n"
     ]
    }
   ],
   "source": [
    "Q:2\n",
    "#extract userid from given mail id\n",
    "#eg if the mail is chetan24jagtap@gmail.com\n",
    "#then user name shuld be \"chetan24jagtap.gmail.com\n",
    "\n",
    "mail_id=input(\"enter mail_id\")\n",
    "poss=mail_id.index(\"@\")\n",
    "print(mail_id[0:poss])\n",
    "\n",
    "      "
   ]
  },
  {
   "cell_type": "code",
   "execution_count": 24,
   "id": "e740d73f-057a-45be-8ab2-00245a63624f",
   "metadata": {},
   "outputs": [
    {
     "name": "stdin",
     "output_type": "stream",
     "text": [
      "enter your string shradha\n",
      "what would you like to search d\n"
     ]
    },
    {
     "name": "stdout",
     "output_type": "stream",
     "text": [
      "frequency of your char is 1\n"
     ]
    }
   ],
   "source": [
    "\n",
    "Q:3\n",
    "#count the frequency of particular character in provided string\n",
    "# Eg \"hello how are you\" is the string'\n",
    "#the freq of\"h\" in this string is 2\n",
    "#without using count function\n",
    "str=input(\"enter your string\")\n",
    "term = input(\"what would you like to search\")\n",
    "\n",
    "count=0\n",
    "for i in str:\n",
    "    if i == term:\n",
    "        count += 1\n",
    "        print(\"frequency of your char is\",count)\n",
    "\n",
    "\n",
    "\n"
   ]
  },
  {
   "cell_type": "code",
   "execution_count": 28,
   "id": "704585a3-33e0-4aa6-a238-84f0e65f931a",
   "metadata": {},
   "outputs": [
    {
     "name": "stdin",
     "output_type": "stream",
     "text": [
      "enter your string hello how are you\n",
      " enter char which want to remove h\n"
     ]
    },
    {
     "name": "stdout",
     "output_type": "stream",
     "text": [
      "ello ow are you\n"
     ]
    }
   ],
   "source": [
    "Q:4\n",
    "#write a program which can remove\n",
    "#a particular char from string\n",
    "str=input (\"enter your string\")\n",
    "s=input(\" enter char which want to remove\")\n",
    "\n",
    "result=\"\"\n",
    "for i in str:\n",
    "    if i != s:\n",
    "        result=result+ i\n",
    "print(result)\n",
    "        \n",
    "\n"
   ]
  },
  {
   "cell_type": "code",
   "execution_count": null,
   "id": "089f210f-841a-4063-9814-90e1467ac416",
   "metadata": {},
   "outputs": [],
   "source": [
    " Q 5 : \n",
    "# Write a program that can check whether a given string is palindrome or not.\n",
    "# abba\n",
    "# malayalam\n",
    "#problem5code\n",
    "def is_palindrome(input_str):\n",
    "    # Convert the string to lowercase to handle case-insensitive palindromes\n",
    "    input_str = input_str.lower()\n",
    "    \n",
    "    # Reverse the string\n",
    "    reversed_str = input_str[::-1]\n",
    "    \n",
    "    # Check if the original string is equal to its reverse\n",
    "    return input_str == reversed_str\n",
    "\n",
    "# Input the string from the keyboard\n",
    "input_string1 = input(\"Enter a string: \")\n",
    "\n",
    "\n",
    "# Check if the string is a palindrome\n",
    "if is_palindrome(input_string1):\n",
    "    print(\"The entered string is a palindrome\")\n",
    "else:\n",
    "    print(\"The entered string is not a palindrome\")"
   ]
  },
  {
   "cell_type": "code",
   "execution_count": 7,
   "id": "ee65b1a2-7842-4797-b3d1-7b2e8176416f",
   "metadata": {},
   "outputs": [
    {
     "name": "stdin",
     "output_type": "stream",
     "text": [
      "Enter a string:  how are you\n"
     ]
    },
    {
     "name": "stdout",
     "output_type": "stream",
     "text": [
      "Number of words in the string: 3\n"
     ]
    }
   ],
   "source": [
    "##Q 6 :\n",
    "# Write a program to count the number of words in a string without split()\n",
    "def count_words(input_str):\n",
    "    # Initialize a word count variable\n",
    "    word_count = 0\n",
    "    \n",
    "    # Initialize a flag to track if a word has started\n",
    "    in_word = False\n",
    "    \n",
    "    # Iterate over each character in the string\n",
    "    for char in input_str:\n",
    "        # If the character is a space and we were in a word, increment the word count\n",
    "        if char == ' ' and in_word:\n",
    "            word_count += 1\n",
    "            in_word = False\n",
    "        # If the character is not a space, mark that we are in a word\n",
    "        elif char != ' ':\n",
    "            in_word = True\n",
    "         # If we were in a word at the end of the string, increment the word count for the last word\n",
    "    if in_word:\n",
    "        word_count += 1\n",
    "    \n",
    "    return word_count\n",
    "\n",
    "# Input the string from the keyboard\n",
    "input_string = input(\"Enter a string: \")\n",
    "\n",
    "# Count the number of words in the string\n",
    "num_words = count_words(input_string)\n",
    "\n",
    "# Print the result\n",
    "print(\"Number of words in the string:\", num_words)   \n",
    "        "
   ]
  },
  {
   "cell_type": "code",
   "execution_count": null,
   "id": "e8a6e44a-6408-4322-94f7-937be6c95836",
   "metadata": {},
   "outputs": [],
   "source": [
    "Q 7 : \n",
    "# Write a python program to convert a string to title case without using the title()\n",
    "\n"
   ]
  },
  {
   "cell_type": "code",
   "execution_count": 4,
   "id": "d4215c39-8d19-49b0-ba29-331044258fdd",
   "metadata": {},
   "outputs": [
    {
     "name": "stdin",
     "output_type": "stream",
     "text": [
      "Enter a string:  shraddha is a girl\n"
     ]
    },
    {
     "name": "stdout",
     "output_type": "stream",
     "text": [
      "String in title case: Shraddha Is A Girl\n"
     ]
    }
   ],
   "source": [
    "##problem7code\n",
    "def to_title_case(input_str):\n",
    "    title_case_str = \"\"\n",
    "    capitalize_next = True\n",
    "\n",
    "    for char in input_str:\n",
    "        if char.isalpha():\n",
    "            if capitalize_next:\n",
    "                title_case_str += char.upper()\n",
    "                capitalize_next = False\n",
    "            else:\n",
    "                title_case_str += char.lower()\n",
    "        else:\n",
    "            title_case_str += char\n",
    "            capitalize_next = True\n",
    "\n",
    "    return title_case_str\n",
    "# Input the string from the keyboard\n",
    "input_string = input(\"Enter a string: \")\n",
    "\n",
    "# Convert the string to title case\n",
    "title_case_string = to_title_case(input_string)\n",
    "\n",
    "# Print the result\n",
    "print(\"String in title case:\", title_case_string)"
   ]
  },
  {
   "cell_type": "code",
   "execution_count": null,
   "id": "90341d96-8207-47e1-9f05-03f5bc4700a7",
   "metadata": {},
   "outputs": [],
   "source": []
  }
 ],
 "metadata": {
  "kernelspec": {
   "display_name": "Python 3 (ipykernel)",
   "language": "python",
   "name": "python3"
  },
  "language_info": {
   "codemirror_mode": {
    "name": "ipython",
    "version": 3
   },
   "file_extension": ".py",
   "mimetype": "text/x-python",
   "name": "python",
   "nbconvert_exporter": "python",
   "pygments_lexer": "ipython3",
   "version": "3.11.7"
  }
 },
 "nbformat": 4,
 "nbformat_minor": 5
}
