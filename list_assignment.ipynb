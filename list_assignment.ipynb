{
 "cells": [
  {
   "cell_type": "code",
   "execution_count": null,
   "id": "3dde8c5a-2a72-48a4-aea3-3987b8fb0d25",
   "metadata": {},
   "outputs": [],
   "source": [
    "Q 1 \n",
    "# Create 2 lists from a given list where \n",
    "# 1st list will contain all the odd numbers from the original list and\n",
    "# the 2nd one will contain all the even numbers\n",
    "L = [1,2,3,4,5,6]"
   ]
  },
  {
   "cell_type": "code",
   "execution_count": 1,
   "id": "961db5b0-7029-4825-90d5-49c86d4040ce",
   "metadata": {},
   "outputs": [
    {
     "name": "stdout",
     "output_type": "stream",
     "text": [
      "Original list: [1, 2, 3, 4, 5, 6]\n",
      "List of odd numbers: [1, 3, 5]\n",
      "List of even numbers: [2, 4, 6]\n"
     ]
    }
   ],
   "source": [
    "L = [1, 2, 3, 4, 5, 6]\n",
    "\n",
    "# Initialize empty lists to store odd and even numbers\n",
    "odd_numbers = []\n",
    "even_numbers = []\n",
    "\n",
    "# Iterate through the elements of the original list\n",
    "for num in L:\n",
    "    if num % 2 == 0:  # Check if the number is even\n",
    "        even_numbers.append(num)\n",
    "    else:\n",
    "        odd_numbers.append(num)\n",
    "\n",
    "print(\"Original list:\", L)\n",
    "print(\"List of odd numbers:\",\n",
    "     odd_numbers)\n",
    "print(\"List of even numbers:\", even_numbers) "
   ]
  },
  {
   "cell_type": "code",
   "execution_count": null,
   "id": "b8cf82ee-2d9e-461c-9260-90e633554c55",
   "metadata": {},
   "outputs": [],
   "source": [
    "Q 2\n",
    "# How to take list as input from user"
   ]
  },
  {
   "cell_type": "code",
   "execution_count": 4,
   "id": "deafcc25-1094-4169-aee1-82414235d1b2",
   "metadata": {},
   "outputs": [
    {
     "name": "stdin",
     "output_type": "stream",
     "text": [
      " 1 2 3\n"
     ]
    },
    {
     "name": "stdout",
     "output_type": "stream",
     "text": [
      "['1 2 3']\n"
     ]
    }
   ],
   "source": [
    "x=input().split(',')\n",
    "print(x)"
   ]
  },
  {
   "cell_type": "code",
   "execution_count": null,
   "id": "220f8353-c730-4c7a-ab22-3e8e329bc6b1",
   "metadata": {},
   "outputs": [],
   "source": [
    " Q 3 \n",
    "# Write a program to merge 2 list without using the + operator\n",
    "L1 = [1,2,3,4]\n",
    "L2 = [5,6,7,8]\n"
   ]
  },
  {
   "cell_type": "code",
   "execution_count": 5,
   "id": "1b5b82de-e14e-4eb1-9651-f0458aca7d06",
   "metadata": {},
   "outputs": [
    {
     "name": "stdout",
     "output_type": "stream",
     "text": [
      "Original list: [1, 2, 300, 4, 5, 300]\n",
      "Modified list: [1, 2, 300, 4, 5, 300]\n"
     ]
    }
   ],
   "source": [
    "def replace_item(li, old_item, new_item):\n",
    "    for i in range(len(li)):\n",
    "        if li[i] == old_item:\n",
    "            li[i] = new_item\n",
    "    return li\n",
    "\n",
    "# Example usage:\n",
    "original_list = [1, 2, 3, 4, 5, 3]\n",
    "old_value = 3\n",
    "new_value = 300\n",
    "\n",
    "# Call the function to replace items in the list\n",
    "modified_list = replace_item(original_list, old_value, new_value)\n",
    "\n",
    "# Print the original and modified lists\n",
    "print(\"Original list:\", original_list)\n",
    "print(\"Modified list:\", modified_list)"
   ]
  },
  {
   "cell_type": "code",
   "execution_count": null,
   "id": "3819d455-9906-4106-9adb-425f58f6c3b9",
   "metadata": {},
   "outputs": [],
   "source": [
    "Q 4\n",
    "# Write a program to replace an item with a different item if found in the list \n",
    "L = [1,2,3,4,5,3]\n",
    "# replace 3 with 300"
   ]
  },
  {
   "cell_type": "code",
   "execution_count": 10,
   "id": "80fef2b4-c623-40ae-ab12-ad75ac46b055",
   "metadata": {},
   "outputs": [
    {
     "name": "stdout",
     "output_type": "stream",
     "text": [
      "original list: [1, 2, 3, 4, 5, 3]\n",
      "modified list: []\n"
     ]
    }
   ],
   "source": [
    "def replace_item(li, old_item, new_item):\n",
    "  for i in range(len(li)):\n",
    "    if li[i] == old_item:\n",
    "       li [i] = new_item\n",
    "    return li\n",
    "    #example usage:\n",
    "original_list = [1,2,3,4,5,3]\n",
    "old_value = 3\n",
    "new_value = 300\n",
    "modified_list =[]\n",
    "replace_item(original_list,old_value, new_value)\n",
    "print(\"original list:\",original_list)\n",
    "print(\"modified list:\",modified_list)"
   ]
  },
  {
   "cell_type": "code",
   "execution_count": null,
   "id": "f609e958-9a11-4eaa-a6c1-a307f80a1e6b",
   "metadata": {},
   "outputs": [],
   "source": [
    "Q 5 \n",
    "# Write a program that can convert a 2D list to 1D list"
   ]
  },
  {
   "cell_type": "code",
   "execution_count": 11,
   "id": "a656e066-f1f1-405e-a4c0-2a6dab32c3cc",
   "metadata": {},
   "outputs": [
    {
     "name": "stdout",
     "output_type": "stream",
     "text": [
      "Original 2D list: [[1, 2, 3], [4, 5], [6, 7, 8]]\n",
      "Flattened 1D list: [1, 2, 3, 4, 5, 6, 7, 8]\n"
     ]
    }
   ],
   "source": [
    "def flatten_2d_list(two_d_list):\n",
    "    # Initialize an empty list to store the flattened result\n",
    "    one_d_list = []\n",
    "\n",
    "    # Iterate over each sublist in the 2D list\n",
    "    for sublist in two_d_list:\n",
    "        # Extend the one_d_list with the elements of the current sublist\n",
    "        one_d_list.extend(sublist)\n",
    "\n",
    "    return one_d_list\n",
    "    # Example 2D list\n",
    "two_d_list = [[1, 2, 3], [4, 5], [6, 7, 8]]\n",
    "\n",
    "# Convert the 2D list to a 1D list\n",
    "one_d_list = flatten_2d_list(two_d_list)\n",
    "\n",
    "# Print the result\n",
    "print(\"Original 2D list:\", two_d_list)\n",
    "print(\"Flattened 1D list:\", one_d_list)"
   ]
  },
  {
   "cell_type": "code",
   "execution_count": null,
   "id": "f101d00e-3eea-4052-b95b-90e0a68d2f0c",
   "metadata": {},
   "outputs": [],
   "source": [
    "Q 6 \n",
    "# Write a program to remove duplicate items from a list\n",
    "\n",
    "L = [1,2,1,2,3,4,5,3,4]"
   ]
  },
  {
   "cell_type": "code",
   "execution_count": 12,
   "id": "bc06bf85-f0f4-42da-8bb1-4bed106f2722",
   "metadata": {},
   "outputs": [
    {
     "name": "stdout",
     "output_type": "stream",
     "text": [
      "Original list: [1, 2, 1, 2, 3, 4, 5, 3, 4]\n",
      "List after removing duplicates: [1, 2, 3, 4, 5]\n"
     ]
    }
   ],
   "source": [
    "L = [1, 2, 1, 2, 3, 4, 5, 3, 4]\n",
    "\n",
    "# Convert the list to a set to remove duplicates, then convert it back to a list\n",
    "unique_list = list(set(L))\n",
    "\n",
    "print(\"Original list:\", L)\n",
    "print(\"List after removing duplicates:\", unique_list)"
   ]
  },
  {
   "cell_type": "code",
   "execution_count": null,
   "id": "29460e35-cabc-49a6-ae82-89ed126ea04a",
   "metadata": {},
   "outputs": [],
   "source": [
    "Q 7 \n",
    "# Write a program to check if a list is in ascending order or not"
   ]
  },
  {
   "cell_type": "code",
   "execution_count": 13,
   "id": "53404a29-2eb3-4255-b9de-33a4629a3323",
   "metadata": {},
   "outputs": [
    {
     "name": "stdout",
     "output_type": "stream",
     "text": [
      "Is list1 in ascending order? True\n",
      "Is list2 in ascending order? False\n"
     ]
    }
   ],
   "source": [
    "def is_ascending(lst):\n",
    "    # Iterate through the list from the first element to the second last element\n",
    "    for i in range(len(lst) - 1):\n",
    "        # If any element is greater than the next one, return False\n",
    "        if lst[i] > lst[i + 1]:\n",
    "            return False\n",
    "    # If no element violates the ascending order condition, return True\n",
    "    return True\n",
    "\n",
    "# Test the function\n",
    "list1 = [1, 2, 3, 4, 5]\n",
    "list2 = [1, 3, 2, 4, 5]\n",
    "\n",
    "print(\"Is list1 in ascending order?\", is_ascending(list1))\n",
    "print(\"Is list2 in ascending order?\", is_ascending(list2))"
   ]
  },
  {
   "cell_type": "code",
   "execution_count": null,
   "id": "8792fafd-dc02-41e8-9950-60afd1db136b",
   "metadata": {},
   "outputs": [],
   "source": []
  }
 ],
 "metadata": {
  "kernelspec": {
   "display_name": "Python 3 (ipykernel)",
   "language": "python",
   "name": "python3"
  },
  "language_info": {
   "codemirror_mode": {
    "name": "ipython",
    "version": 3
   },
   "file_extension": ".py",
   "mimetype": "text/x-python",
   "name": "python",
   "nbconvert_exporter": "python",
   "pygments_lexer": "ipython3",
   "version": "3.11.7"
  }
 },
 "nbformat": 4,
 "nbformat_minor": 5
}
