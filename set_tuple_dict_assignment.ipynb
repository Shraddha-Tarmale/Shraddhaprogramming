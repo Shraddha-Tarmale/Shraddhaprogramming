{
 "cells": [
  {
   "cell_type": "markdown",
   "id": "bcf33060-482a-4c59-99e4-0a795360275e",
   "metadata": {},
   "source": [
    "## tuple questions"
   ]
  },
  {
   "cell_type": "markdown",
   "id": "35b40634-a8d5-4c2f-a16a-cd75bd2eec05",
   "metadata": {},
   "source": [
    "Q1: Join Tuples if similar initial element\n",
    "While working with Python tuples, we can have a problem in which we need to perform concatenation of records from the similarity of initial element. This problem can have applications in data domains such as Data Science.\n",
    "\n",
    "For eg.\n",
    "\n",
    "Input  : test_list = [(5, 6), (5, 7), (5, 8), (6, 10), (7, 13)] \n",
    "Output : [(5, 6, 7, 8), (6, 10), (7, 13)] "
   ]
  },
  {
   "cell_type": "code",
   "execution_count": 4,
   "id": "7fdaa550-a489-4371-af04-cee8a83ea727",
   "metadata": {},
   "outputs": [
    {
     "name": "stdout",
     "output_type": "stream",
     "text": [
      "[(5, 6, 7, 8), (6, 10), (7, 13)]\n"
     ]
    }
   ],
   "source": [
    "def join_tuples_by_initial_element(test_list):\n",
    "    # Create a dictionary to store tuples grouped by their initial element\n",
    "    grouped_dict = {}\n",
    "    \n",
    "    # Iterate through each tuple in the list\n",
    "    for tup in test_list:\n",
    "        key = tup[0]  # Use the first element of the tuple as the key\n",
    "        if key in grouped_dict:\n",
    "            grouped_dict[key].extend(tup[1:])  # Extend the existing list with remaining elements\n",
    "        else:\n",
    "            grouped_dict[key] = list(tup)  # Create a new list with the tuple elements\n",
    "    \n",
    "    # Convert the dictionary values (lists) back to tuples\n",
    "    result = [tuple(v) for v in grouped_dict.values()]\n",
    "    \n",
    "    return result\n",
    "\n",
    "# Example usage:\n",
    "test_list = [(5, 6), (5, 7), (5, 8), (6, 10), (7, 13)]\n",
    "output = join_tuples_by_initial_element(test_list)\n",
    "print(output)  # Output: [(5, 6, 7, 8), (6, 10), (7, 13)]"
   ]
  },
  {
   "cell_type": "markdown",
   "id": "7e7e7ea0-4d6f-4faf-ae74-4c5b1fa455b3",
   "metadata": {},
   "source": [
    "Q2: Multiply Adjacent elements (both side) and take sum of right and lest side multiplication result.\n",
    "For eg.\n",
    "\n",
    "The original tuple : (1, 5, 7, 8, 10)\n",
    "Resultant tuple after multiplication : \n",
    "\n",
    "(1*5, 1*5+5*7, 7*5 + 7*8, 8*7 + 8*10, 10*8) -> (5, 40, 91, 136, 80)\n",
    "\n",
    "output-(5, 40, 91, 136, 80)"
   ]
  },
  {
   "cell_type": "code",
   "execution_count": 3,
   "id": "ef182066-ea73-405c-9ca3-206abf001b1c",
   "metadata": {},
   "outputs": [
    {
     "name": "stdout",
     "output_type": "stream",
     "text": [
      "(5, 40, 91, 136, 80)\n"
     ]
    }
   ],
   "source": [
    "def multiply_adjacent_elements(tuple_in):\n",
    "    n = len(tuple_in)\n",
    "    if n < 3:\n",
    "        return tuple_in  # if tuple has less than 3 elements, return as is\n",
    "\n",
    "    result = []\n",
    "    for i in range(n):\n",
    "        if i == 0:\n",
    "            # First element: multiply with the next element\n",
    "            result.append(tuple_in[i] * tuple_in[i+1])\n",
    "        elif i == n - 1:\n",
    "            # Last element: multiply with the previous element\n",
    "            result.append(tuple_in[i-1] * tuple_in[i])\n",
    "        else:\n",
    "            # Middle elements: multiply with both previous and next elements\n",
    "            result.append(tuple_in[i-1] * tuple_in[i] + tuple_in[i] * tuple_in[i+1])\n",
    "\n",
    "    return tuple(result)\n",
    "\n",
    "# Example usage:\n",
    "original_tuple = (1, 5, 7, 8, 10)\n",
    "result_tuple = multiply_adjacent_elements(original_tuple)\n",
    "print(result_tuple)"
   ]
  },
  {
   "cell_type": "markdown",
   "id": "750a6f32-d107-43e0-b58b-41c9898e9c1d",
   "metadata": {},
   "source": [
    "Q3: Check is tuples are same or not?\n",
    "Two tuples would be same if both tuples have same element at same index\n",
    "\n",
    "t1 = (1,2,3,0)\n",
    "t2 = (0,1,2,3)\n",
    "\n",
    "t1 and t2 are not same"
   ]
  },
  {
   "cell_type": "code",
   "execution_count": 2,
   "id": "a6233332-d683-4891-a3bd-339517b3e124",
   "metadata": {},
   "outputs": [
    {
     "name": "stdout",
     "output_type": "stream",
     "text": [
      "t1 and t2 are not same\n"
     ]
    }
   ],
   "source": [
    "t1 = (1,2,3,0)\n",
    "t2 = (0,1,2,3)\n",
    "if t1==t2:\n",
    "    print(\"t1 and t2 are same\")\n",
    "else:\n",
    "    print(\"t1 and t2 are not same\")"
   ]
  },
  {
   "cell_type": "markdown",
   "id": "506532a5-070d-4827-b0ec-e47f8e1f37a4",
   "metadata": {},
   "source": [
    "Q4: Count no of tuples, list and set from a list\n",
    "list1 = [{'hi', 'bye'},{'Geeks', 'forGeeks'},('a', 'b'),['hi', 'bye'],['a', 'b']]\n",
    "Output:\n",
    "\n",
    "List-2\n",
    "Set-2\n",
    "Tuples-1"
   ]
  },
  {
   "cell_type": "code",
   "execution_count": 2,
   "id": "cf8da27c-aaa3-4a16-8ea9-f0e9e807f684",
   "metadata": {},
   "outputs": [
    {
     "name": "stdout",
     "output_type": "stream",
     "text": [
      "List-2\n",
      "Set-2\n",
      "Tuples-1\n"
     ]
    }
   ],
   "source": [
    "list1 = [{'hi', 'bye'}, {'Geeks', 'forGeeks'}, ('a', 'b'), ['hi', 'bye'], ['a', 'b']]\n",
    "\n",
    "# Initialize counts\n",
    "list_count = 0\n",
    "set_count = 0\n",
    "tuple_count = 0\n",
    "\n",
    "# Iterate through elements in list1\n",
    "for elem in list1:\n",
    "    if isinstance(elem, list):\n",
    "        list_count += 1\n",
    "    elif isinstance(elem, set):\n",
    "        set_count += 1\n",
    "    elif isinstance(elem, tuple):\n",
    "        tuple_count += 1\n",
    "\n",
    "# Print the counts\n",
    "print(f\"List-{list_count}\")\n",
    "print(f\"Set-{set_count}\")\n",
    "print(f\"Tuples-{tuple_count}\")"
   ]
  },
  {
   "cell_type": "markdown",
   "id": "d541d6db-593f-448e-a58d-f43425b6f02b",
   "metadata": {},
   "source": [
    "Q5: Shortlist Students for a Job role\n",
    "Ask user to input students record and store in tuples for each record. Then Ask user to input three things he wants in the candidate- Primary Skill, Higher Education, Year of Graduation.\n",
    "\n",
    "Show every students record in form of tuples if matches all required criteria.\n",
    "\n",
    "It is assumed that there will be only one primry skill.\n",
    "\n",
    "If no such candidate found, print No such candidate\n",
    "\n",
    "Input:\n",
    "\n",
    "Enter No of records- 2\n",
    "Enter Details of student-1\n",
    "Enter Student name- Manohar\n",
    "Enter Higher Education- B.Tech\n",
    "Enter Primary Skill- Python\n",
    "Enter Year of Graduation- 2022\n",
    "Enter Details of student-2\n",
    "Enter Student name- Ponian\n",
    "Enter Higher Education- B.Sc.\n",
    "Enter Primary Skill- C++\n",
    "Enter Year of Graduation- 2020\n",
    "Enter Job Role Requirement\n",
    "Enter Skill- Python\n",
    "Enter Higher Education- B.Tech\n",
    "Enter Year of Graduation- 2022\n",
    "Output\n",
    "\n",
    "('Manohar', 'B.tech', 'Python', '2022')\n",
    "[ ]\n"
   ]
  },
  {
   "cell_type": "code",
   "execution_count": 13,
   "id": "022a0c72-ca74-48f5-83b2-f30bba120ce0",
   "metadata": {},
   "outputs": [
    {
     "name": "stdin",
     "output_type": "stream",
     "text": [
      "Enter No of records-  4\n"
     ]
    },
    {
     "name": "stdout",
     "output_type": "stream",
     "text": [
      "Enter Details of student-1\n"
     ]
    },
    {
     "name": "stdin",
     "output_type": "stream",
     "text": [
      "Enter Student name-  shraddha ganesh tarmale\n",
      "Enter Higher Education-  bcs\n",
      "Enter Primary Skill-  2025\n",
      "Enter Year of Graduation-  2025\n"
     ]
    },
    {
     "name": "stdout",
     "output_type": "stream",
     "text": [
      "Enter Details of student-2\n"
     ]
    },
    {
     "name": "stdin",
     "output_type": "stream",
     "text": [
      "Enter Student name-  om ganesh tarmale\n",
      "Enter Higher Education-  B.Tech\n",
      "Enter Primary Skill-  python\n",
      "Enter Year of Graduation-  2026\n"
     ]
    },
    {
     "name": "stdout",
     "output_type": "stream",
     "text": [
      "Enter Details of student-3\n"
     ]
    },
    {
     "name": "stdin",
     "output_type": "stream",
     "text": [
      "Enter Student name-  sakshi\n",
      "Enter Higher Education-  bcs\n",
      "Enter Primary Skill-  c++\n",
      "Enter Year of Graduation-  2024\n"
     ]
    },
    {
     "name": "stdout",
     "output_type": "stream",
     "text": [
      "Enter Details of student-4\n"
     ]
    },
    {
     "name": "stdin",
     "output_type": "stream",
     "text": [
      "Enter Student name-  satyam\n",
      "Enter Higher Education-  b.tech\n",
      "Enter Primary Skill-  c#\n",
      "Enter Year of Graduation-  2003\n"
     ]
    },
    {
     "name": "stdout",
     "output_type": "stream",
     "text": [
      "\n",
      "Enter Job Role Requirement\n"
     ]
    },
    {
     "name": "stdin",
     "output_type": "stream",
     "text": [
      "Enter Skill-  python\n",
      "Enter Higher Education-  B.Tech\n",
      "Enter Year of Graduation-  2026\n"
     ]
    },
    {
     "name": "stdout",
     "output_type": "stream",
     "text": [
      "('om ganesh tarmale', 'B.Tech', 'python', 2026)\n"
     ]
    }
   ],
   "source": [
    "def get_student_records(num_records):\n",
    "    students = []\n",
    "    for i in range(num_records):\n",
    "        print(f\"Enter Details of student-{i + 1}\")\n",
    "        name = input(\"Enter Student name- \")\n",
    "        education = input(\"Enter Higher Education- \")\n",
    "        skill = input(\"Enter Primary Skill- \")\n",
    "        year = int(input(\"Enter Year of Graduation- \"))\n",
    "        students.append((name, education, skill, year))\n",
    "    return students\n",
    "\n",
    "def get_job_requirements():\n",
    "    print(\"\\nEnter Job Role Requirement\")\n",
    "    skill = input(\"Enter Skill- \")\n",
    "    education = input(\"Enter Higher Education- \")\n",
    "    year = int(input(\"Enter Year of Graduation- \"))\n",
    "    return skill, education, year\n",
    "\n",
    "def shortlist_students(students, requirements):\n",
    "    skill, education, year = requirements\n",
    "    shortlisted = [student for student in students if student[2] == skill and student[1] == education and student[3] == year]\n",
    "    return shortlisted\n",
    "\n",
    "# Main program\n",
    "num_records = int(input(\"Enter No of records- \"))\n",
    "students = get_student_records(num_records)\n",
    "requirements = get_job_requirements()\n",
    "\n",
    "shortlisted_students = shortlist_students(students, requirements)\n",
    "\n",
    "if shortlisted_students:\n",
    "    for student in shortlisted_students:\n",
    "        print(student)\n",
    "else:\n",
    "    print(\"No such candidate\")"
   ]
  },
  {
   "cell_type": "markdown",
   "id": "14c6c708-0d01-4edc-92f2-c08c5ed49be2",
   "metadata": {},
   "source": [
    "## set"
   ]
  },
  {
   "cell_type": "markdown",
   "id": "3ca95936-a4f6-448a-b138-fd64899122d5",
   "metadata": {},
   "source": [
    "Q1: Write a program to find set of common elements in three lists using sets.\n",
    "Input : ar1 = [1, 5, 10, 20, 40, 80]\n",
    "        ar2 = [6, 7, 20, 80, 100]\n",
    "        ar3 = [3, 4, 15, 20, 30, 70, 80, 120]\n",
    "\n",
    "Output : [80, 20]"
   ]
  },
  {
   "cell_type": "code",
   "execution_count": 14,
   "id": "248a3fda-fcdb-47fe-82bd-8c9aa16f5358",
   "metadata": {},
   "outputs": [
    {
     "name": "stdout",
     "output_type": "stream",
     "text": [
      "[80, 20]\n"
     ]
    }
   ],
   "source": [
    "def find_common_elements(ar1, ar2, ar3):\n",
    "    # Convert lists to sets\n",
    "    set1 = set(ar1)\n",
    "    set2 = set(ar2)\n",
    "    set3 = set(ar3)\n",
    "\n",
    "    # Find the intersection of the three sets\n",
    "    common_elements = set1.intersection(set2).intersection(set3)\n",
    "\n",
    "    # Convert the result back to a list (sorted if necessary)\n",
    "    return list(common_elements)\n",
    "\n",
    "# Input lists\n",
    "ar1 = [1, 5, 10, 20, 40, 80]\n",
    "ar2 = [6, 7, 20, 80, 100]\n",
    "ar3 = [3, 4, 15, 20, 30, 70, 80, 120]\n",
    "\n",
    "# Find common elements\n",
    "result = find_common_elements(ar1, ar2, ar3)\n",
    "\n",
    "# Print the result\n",
    "print(result)\n"
   ]
  },
  {
   "cell_type": "markdown",
   "id": "bc59e147-05a8-4dde-8f94-03069a9b1da4",
   "metadata": {},
   "source": [
    "Q2: Write a program to count unique number of vowels using sets in a given string. Lowercase and upercase vowels will be taken as different.\n",
    "Input:\n",
    "\n",
    "Str1 = \"hands-on data science mentorship progrAm with live classes at affordable fee only on CampusX\"\n",
    "Output:\n",
    "\n",
    "No of unique vowels-6"
   ]
  },
  {
   "cell_type": "code",
   "execution_count": 15,
   "id": "043ca133-2469-4ebc-a54c-53622c96b315",
   "metadata": {},
   "outputs": [
    {
     "name": "stdout",
     "output_type": "stream",
     "text": [
      "No of unique vowels-6\n"
     ]
    }
   ],
   "source": [
    "def count_unique_vowels(input_string):\n",
    "    # Define a set of vowels (including both lowercase and uppercase)\n",
    "    vowels = {'a', 'e', 'i', 'o', 'u', 'A', 'E', 'I', 'O', 'U'}\n",
    "    \n",
    "    # Use a set to store unique vowels found in the input string\n",
    "    unique_vowels = set()\n",
    "    \n",
    "    # Iterate through each character in the string\n",
    "    for char in input_string:\n",
    "        # If the character is a vowel, add it to the set of unique vowels\n",
    "        if char in vowels:\n",
    "            unique_vowels.add(char)\n",
    "    \n",
    "    # Return the number of unique vowels\n",
    "    return len(unique_vowels)\n",
    "\n",
    "# Input string\n",
    "Str1 = \"hands-on data science mentorship progrAm with live classes at affordable fee only on CampusX\"\n",
    "\n",
    "# Count unique vowels\n",
    "unique_vowel_count = count_unique_vowels(Str1)\n",
    "\n",
    "# Print the result\n",
    "print(f\"No of unique vowels-{unique_vowel_count}\")"
   ]
  },
  {
   "cell_type": "markdown",
   "id": "ec032640-2dd7-400c-8076-c468e3f5e2a6",
   "metadata": {},
   "source": [
    "Q3: Write a program to Check if a given string is binary string of or not.\n",
    "A string is said to be binary if it's consists of only two unique characters.\n",
    "\n",
    "Take string input from user.\n",
    "\n",
    "Input: str = \"01010101010\"\n",
    "Output: Yes\n",
    "\n",
    "Input: str = \"1222211\"\n",
    "Output: Yes\n",
    "\n",
    "Input: str = \"Campusx\"\n",
    "Output: No"
   ]
  },
  {
   "cell_type": "code",
   "execution_count": 17,
   "id": "1f2cd648-db1b-46db-a429-5feec4b7e56a",
   "metadata": {},
   "outputs": [
    {
     "name": "stdin",
     "output_type": "stream",
     "text": [
      "Enter a string:  121212\n"
     ]
    },
    {
     "name": "stdout",
     "output_type": "stream",
     "text": [
      "Yes\n"
     ]
    }
   ],
   "source": [
    "def is_binary_string(input_string):\n",
    "    # Use a set to store unique characters found in the input string\n",
    "    unique_chars = set(input_string)\n",
    "    \n",
    "    # Check if the number of unique characters is exactly 2\n",
    "    if len(unique_chars) == 2:\n",
    "        return \"Yes\"\n",
    "    else:\n",
    "        return \"No\"\n",
    "\n",
    "# Take string input from the user\n",
    "input_string = input(\"Enter a string: \")\n",
    "\n",
    "# Check if the input string is binary\n",
    "result = is_binary_string(input_string)\n",
    "\n",
    "# Print the result\n",
    "print(result)"
   ]
  },
  {
   "cell_type": "markdown",
   "id": "640c43f7-0104-46a3-ba92-bcbab963ca36",
   "metadata": {},
   "source": [
    "Q4: find union of n arrays.\n",
    "Example 1:\n",
    "\n",
    "Input:\n",
    "\n",
    "[[1, 2, 2, 4, 3, 6],\n",
    " [5, 1, 3, 4],\n",
    " [9, 5, 7, 1],\n",
    " [2, 4, 1, 3]]\n",
    "Output:\n",
    "\n",
    "[1, 2, 3, 4, 5, 6, 7, 9]\n",
    "[ ]"
   ]
  },
  {
   "cell_type": "code",
   "execution_count": 21,
   "id": "bb9de8fe-12c4-4f1a-9dce-cf96d6454101",
   "metadata": {},
   "outputs": [],
   "source": [
    "def find_union_of_arrays(arrays):\n",
    "    # Initialize an empty set to store unique elements\n",
    "    union_set = set()\n",
    "    \n",
    "    # Iterate through each array in the list of arrays\n",
    "    for array in arrays:\n",
    "        # Update the union_set with elements from the current array\n",
    "        union_set.update(array)\n",
    "    \n",
    "    # Convert the set to a sorted list\n",
    "    result = sorted(list(union_set))\n",
    "    \n",
    "    return result\n",
    "\n",
    "# Input: list of arrays\n",
    "arrays = [\n",
    "    [1, 2, 2, 4, 3, 6],\n",
    "    [5,1,3,4],\n",
    "    [9,5,7,1],\n",
    "    [2,4,1,3]]"
   ]
  },
  {
   "cell_type": "markdown",
   "id": "e130eba5-5eee-457d-9bd3-fad24ed52ce7",
   "metadata": {},
   "source": [
    "Q5: Intersection of two lists. Intersection of two list means we need to take all those elements which are common to both of the initial lists and store them into another list. Only use using list-comprehension.\n",
    "Example 1:\n",
    "\n",
    "Input:\n",
    "\n",
    "lst1 = {15, 9, 10, 56, 23, 78, 5, 4, 9}\n",
    "lst2 = {9, 4, 5, 36, 47, 26, 10, 45, 87}\n",
    "Output:\n",
    "\n",
    "[9, 10, 4, 5]\n",
    "Example 2:\n",
    "\n",
    "Input:\n",
    "\n",
    "lst1 = {4, 9, 1, 17, 11, 26, 28, 54, 69}\n",
    "lst2 = {9, 9, 74, 21, 45, 11, 63, 28, 26}\n",
    "Output:\n",
    "\n",
    "[9, 11, 26, 28]\n",
    "[ ]"
   ]
  },
  {
   "cell_type": "code",
   "execution_count": 22,
   "id": "0d22fbb7-e7d4-4f61-8870-75cf5cf9c5a6",
   "metadata": {},
   "outputs": [
    {
     "name": "stdout",
     "output_type": "stream",
     "text": [
      "[9, 10, 4, 5]\n"
     ]
    }
   ],
   "source": [
    "def intersection_of_lists(lst1, lst2):\n",
    "    # Use list comprehension to find common elements\n",
    "    intersection = [element for element in lst1 if element in lst2]\n",
    "    \n",
    "    # Remove duplicates by converting the list to a set and then back to a list\n",
    "    intersection = list(set(intersection))\n",
    "    \n",
    "    return intersection\n",
    "\n",
    "# Input lists\n",
    "lst1 = {15, 9, 10, 56, 23, 78, 5, 4, 9}\n",
    "lst2 = {9, 4, 5, 36, 47, 26, 10, 45, 87}\n",
    "\n",
    "# Convert sets to lists\n",
    "lst1 = list(lst1)\n",
    "lst2 = list(lst2)\n",
    "\n",
    "# Find the intersection of the lists\n",
    "result = intersection_of_lists(lst1, lst2)\n",
    "\n",
    "# Print the result\n",
    "print(result)"
   ]
  },
  {
   "cell_type": "markdown",
   "id": "3c7009ce-a082-468b-a931-b000bdacddee",
   "metadata": {},
   "source": [
    "## Dictionary"
   ]
  },
  {
   "cell_type": "markdown",
   "id": "b86905c5-0614-4257-842e-821b3a79d8d2",
   "metadata": {},
   "source": [
    "Q1: Key with maximum unique values\n",
    "Given a dictionary with values list, extract key whose value has most unique values.\n",
    "\n",
    "Example 1:\n",
    "\n",
    "Input:\n",
    "\n",
    "test_dict = {\"CampusX\" : [5, 7, 9, 4, 0], \"is\" : [6, 7, 4, 3, 3], \"Best\" : [9, 9, 6, 5, 5]}\n",
    "Output:\n",
    "\n",
    "CampusX\n",
    "Example 2:\n",
    "\n",
    "Input:\n",
    "\n",
    "test_dict = {\"CampusX\" : [5, 7, 7, 7, 7], \"is\" : [6, 7, 7, 7], \"Best\" : [9, 9, 6, 5, 5]}\n",
    "Output:\n",
    "\n",
    "Best"
   ]
  },
  {
   "cell_type": "code",
   "execution_count": 12,
   "id": "60431c99-a804-47d0-9333-ea859b903550",
   "metadata": {},
   "outputs": [],
   "source": [
    "def key_with_max_unique_values(d):\n",
    "    max_unique_count = -1\n",
    "    result_key = None\n",
    "    \n",
    "    for key, value_list in d.items():\n",
    "        unique_values = set(value_list)\n",
    "        unique_count = len(unique_values)\n",
    "        \n",
    "        if unique_count > max_unique_count:\n",
    "            max_unique_count = unique_count\n",
    "            result_key = key\n",
    "    \n",
    "    return result_key"
   ]
  },
  {
   "cell_type": "markdown",
   "id": "1fd7912a-3df9-4687-87ec-fa3cd2c54d6b",
   "metadata": {},
   "source": [
    "Q2: Replace words from Dictionary. Given String, replace it’s words from lookup dictionary.\n",
    "Example 1:\n",
    "\n",
    "Input:\n",
    "\n",
    "test_str = 'CampusX best for DS students.'\n",
    "repl_dict = {\"best\" : \"is the best channel\", \"DS\" : \"Data-Science\"}\n",
    "Output:\n",
    "\n",
    "CampusX is the best channel for Data-Science students.\n",
    "Example 2:\n",
    "\n",
    "Input:\n",
    "\n",
    "test_str = 'CampusX best for DS students.'\n",
    "repl_dict = {\"good\" : \"is the best channel\", \"ds\" : \"Data-Science\"}\n",
    "Output:\n",
    "\n",
    "CampusX best for DS students."
   ]
  },
  {
   "cell_type": "code",
   "execution_count": 7,
   "id": "4236cb31-73e7-4b3e-a2cb-0b994574e50e",
   "metadata": {},
   "outputs": [
    {
     "name": "stdout",
     "output_type": "stream",
     "text": [
      "CampusX is the best channel for Data-Science students.\n"
     ]
    }
   ],
   "source": [
    "def replace_words_from_dict(test_str, repl_dict):\n",
    "    # Split the input string into words\n",
    "    words = test_str.split()\n",
    "    \n",
    "    # Initialize a list to store the modified words\n",
    "    replaced_words = []\n",
    "    \n",
    "    # Iterate through each word in the list\n",
    "    for word in words:\n",
    "        # Check if the word exists in the replacement dictionary\n",
    "        if word in repl_dict:\n",
    "            replaced_words.append(repl_dict[word])  # Replace with the value from the dictionary\n",
    "        else:\n",
    "            replaced_words.append(word)  # Keep the original word if not found in the dictionary\n",
    "    \n",
    "    # Join the list of words into a single string\n",
    "    replaced_str = ' '.join(replaced_words)\n",
    "    return replaced_str\n",
    "\n",
    "# Example usage:\n",
    "test_str = 'CampusX best for DS students.'\n",
    "repl_dict = {\"best\": \"is the best channel\", \"DS\": \"Data-Science\"}\n",
    "\n",
    "output_str = replace_words_from_dict(test_str, repl_dict)\n",
    "print(output_str)  # Output: CampusX is the best channel for Data-Science students.\n"
   ]
  },
  {
   "cell_type": "markdown",
   "id": "5a0d5da0-489b-4f4a-8de9-3a2aa6d96305",
   "metadata": {},
   "source": [
    "Q3: Convert List to List of dictionaries. Given list values and keys list, convert these values to key value pairs in form of list of dictionaries.\n",
    "Example 1:\n",
    "\n",
    "Input:\n",
    "\n",
    "test_list = [\"DataScience\", 3, \"is\", 8]\n",
    "key_list = [\"name\", \"id\"]\n",
    "Output:\n",
    "\n",
    "[{'name': 'DataScience', 'id': 3}, {'name': 'is', 'id': 8}]\n",
    "Example 2:\n",
    "\n",
    "Input:\n",
    "\n",
    "test_list = [\"CampusX\", 10]\n",
    "key_list = [\"name\", \"id\"]\n",
    "Output:\n",
    "\n",
    "[{'name': 'CampusX', 'id': 10}]"
   ]
  },
  {
   "cell_type": "code",
   "execution_count": 8,
   "id": "5936785f-5be9-4fbf-8564-aaef1763b2f1",
   "metadata": {},
   "outputs": [
    {
     "name": "stdout",
     "output_type": "stream",
     "text": [
      "[{'name': 'DataScience', 'id': 3}, {'name': 'is', 'id': 8}]\n"
     ]
    }
   ],
   "source": [
    "def convert_to_dict_list(input_list, key_list):\n",
    "    # Calculate number of dictionaries needed\n",
    "    num_dicts = len(input_list) // len(key_list)\n",
    "    \n",
    "    # Initialize an empty list to store dictionaries\n",
    "    result_list = []\n",
    "    \n",
    "    # Iterate over the range of number of dictionaries\n",
    "    for i in range(num_dicts):\n",
    "        # Calculate starting index for each dictionary\n",
    "        start_idx = i * len(key_list)\n",
    "        # Slice the input list to get the current dictionary's values\n",
    "        values = input_list[start_idx:start_idx + len(key_list)]\n",
    "        # Create dictionary by zipping keys and values\n",
    "        dictionary = dict(zip(key_list, values))\n",
    "        # Append dictionary to result list\n",
    "        result_list.append(dictionary)\n",
    "    \n",
    "    return result_list\n",
    "\n",
    "# Example usage:\n",
    "test_list = [\"DataScience\", 3, \"is\", 8]\n",
    "key_list = [\"name\", \"id\"]\n",
    "output = convert_to_dict_list(test_list, key_list)\n",
    "print(output)"
   ]
  },
  {
   "cell_type": "markdown",
   "id": "3803d1f4-302f-451b-a89c-45828d8ebf3d",
   "metadata": {},
   "source": [
    "Q4: Convert a list of Tuples into Dictionary.\n",
    "Example 1:\n",
    "\n",
    "Input:\n",
    "\n",
    "[(\"akash\", 10), (\"gaurav\", 12), (\"anand\", 14), (\"suraj\", 20), (\"akhil\", 25), (\"ashish\", 30)]\n",
    "Output:\n",
    "\n",
    "{'akash': [10], 'gaurav': [12], 'anand': [14], 'suraj': [20], 'akhil': [25], 'ashish': [30]}\n",
    "Example 2:\n",
    "\n",
    "Input:\n",
    "\n",
    "[('A', 1), ('B', 2), ('C', 3)]\n",
    "Output:\n",
    "\n",
    "{'A': [1], 'B': [2], 'C': [3]}"
   ]
  },
  {
   "cell_type": "code",
   "execution_count": 9,
   "id": "d4891ae8-6607-4157-abe3-5422e058e851",
   "metadata": {},
   "outputs": [
    {
     "name": "stdout",
     "output_type": "stream",
     "text": [
      "{'akash': [10], 'gaurav': [12], 'anand': [14], 'suraj': [20], 'akhil': [25], 'ashish': [30]}\n"
     ]
    }
   ],
   "source": [
    "# Input list of tuples\n",
    "input_list = [(\"akash\", 10), (\"gaurav\", 12), (\"anand\", 14), (\"suraj\", 20), (\"akhil\", 25), (\"ashish\", 30)]\n",
    "\n",
    "# Convert list of tuples to dictionary\n",
    "output_dict = {key: [value] for key, value in input_list}\n",
    "\n",
    "# Print the output dictionary\n",
    "print(output_dict)"
   ]
  },
  {
   "cell_type": "markdown",
   "id": "14aef45f-dff4-4583-a538-c7c2258d9edd",
   "metadata": {},
   "source": [
    "Q5: Sort Dictionary key and values List.\n",
    "Example 1:\n",
    "\n",
    "Input:\n",
    "\n",
    "{'c': [3], 'b': [12, 10], 'a': [19, 4]}\n",
    "Output:\n",
    "\n",
    "{'a': [4, 19], 'b': [10, 12], 'c': [3]}\n",
    "Example 2:\n",
    "\n",
    "Input:\n",
    "\n",
    "{'c': [10, 34, 3]}\n",
    "Output:\n",
    "\n",
    "{'c': [3, 10, 34]}\n",
    "[ ]"
   ]
  },
  {
   "cell_type": "code",
   "execution_count": 10,
   "id": "dd75a13d-dfa7-421c-875a-e59100e628db",
   "metadata": {},
   "outputs": [
    {
     "name": "stdout",
     "output_type": "stream",
     "text": [
      "{'a': [4, 19], 'b': [10, 12], 'c': [3]}\n"
     ]
    }
   ],
   "source": [
    "def sort_dict_values(input_dict):\n",
    "    sorted_dict = {}  # Initialize an empty dictionary to store the sorted results\n",
    "    \n",
    "    # Step 1: Sort keys alphabetically\n",
    "    sorted_keys = sorted(input_dict.keys())\n",
    "    \n",
    "    # Step 2: Sort values for each key in ascending order\n",
    "    for key in sorted_keys:\n",
    "        sorted_dict[key] = sorted(input_dict[key])\n",
    "        \n",
    "    return sorted_dict\n",
    "\n",
    "# Example usage:\n",
    "input_dict = {'c': [3], 'b': [12, 10], 'a': [19, 4]}\n",
    "output_dict = sort_dict_values(input_dict)\n",
    "print(output_dict)"
   ]
  },
  {
   "cell_type": "code",
   "execution_count": null,
   "id": "37b19582-e76d-4a40-bd7d-355ed1d0e83b",
   "metadata": {},
   "outputs": [],
   "source": []
  }
 ],
 "metadata": {
  "kernelspec": {
   "display_name": "Python 3 (ipykernel)",
   "language": "python",
   "name": "python3"
  },
  "language_info": {
   "codemirror_mode": {
    "name": "ipython",
    "version": 3
   },
   "file_extension": ".py",
   "mimetype": "text/x-python",
   "name": "python",
   "nbconvert_exporter": "python",
   "pygments_lexer": "ipython3",
   "version": "3.11.7"
  }
 },
 "nbformat": 4,
 "nbformat_minor": 5
}
